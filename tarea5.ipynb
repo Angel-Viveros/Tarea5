{
  "nbformat": 4,
  "nbformat_minor": 0,
  "metadata": {
    "colab": {
      "name": "tarea5.ipynb",
      "provenance": []
    },
    "kernelspec": {
      "display_name": "Python 3",
      "name": "python3"
    },
    "language_info": {
      "name": "python"
    }
  },
  "cells": [
    {
      "cell_type": "code",
      "metadata": {
        "colab": {
          "base_uri": "https://localhost:8080/"
        },
        "id": "qOxCkj0uvhkv",
        "outputId": "4bcf097b-56fd-46f2-ce34-ff853c3d1659"
      },
      "source": [
        "!cat junio.dat"
      ],
      "execution_count": null,
      "outputs": [
        {
          "output_type": "stream",
          "name": "stdout",
          "text": [
            "numero de trabajador, nombres, paterno, materno, horas extra, sueldo base, año de ingreso\r\n",
            "2345,CARLOS,PEREZ,CASTILLO,0,9850,2017\r\n",
            "5754,ANGEL,GOMEZ,GARRIDO,1,9850,2020\r\n",
            "5345,JESUS,MARTIN,SANTOS,2,9850,2016\r\n",
            "3267,DAVID,JIMENEZ,LOZANO,2,9850,2017\r\n",
            "8765,PEDRO,RUIZ,GUERRERO,2,9850,2017\r\n",
            "5454,DANIEL,HERNANDEZ,CANO,3,9850,2018\r\n",
            "3456,ALEJANDRO,DIAZ,PRIETO,2,9850,2018\r\n",
            "3445,MARIA,MORENO,MENDEZ,1,9850,2018\r\n",
            "9088,ALBERTO,MU�OZ,CRUZ,1,9850,2017\r\n",
            "8877,RAFAEL,ALVAREZ,FLORES,2,9850,2017\r\n",
            "6767,FERNANDO,ROMERO,HERRERA,4,9850,2019\r\n",
            "5654,PABLO,ALONSO,GALLEGO,1,9850,2019\r\n",
            "4323,JORGE,GUTIERREZ,MARQUEZ,2,9850,2020\r\n",
            "2232,RAMON,NAVARRO,LEON,1,9850,2016"
          ]
        }
      ]
    },
    {
      "cell_type": "code",
      "metadata": {
        "colab": {
          "base_uri": "https://localhost:8080/"
        },
        "id": "t3L59pKcvkrN",
        "outputId": "b801df20-dd5f-49b4-a403-fbbde60445f2"
      },
      "source": [
        "archivo = open('junio.dat', 'rt' , encoding='latin-1')\n",
        "print (archivo.read())"
      ],
      "execution_count": null,
      "outputs": [
        {
          "output_type": "stream",
          "name": "stdout",
          "text": [
            "numero de trabajador, nombres, paterno, materno, horas extra, sueldo base, aÃ±o de ingreso\n",
            "2345,CARLOS,PEREZ,CASTILLO,0,9850,2017\n",
            "5754,ANGEL,GOMEZ,GARRIDO,1,9850,2020\n",
            "5345,JESUS,MARTIN,SANTOS,2,9850,2016\n",
            "3267,DAVID,JIMENEZ,LOZANO,2,9850,2017\n",
            "8765,PEDRO,RUIZ,GUERRERO,2,9850,2017\n",
            "5454,DANIEL,HERNANDEZ,CANO,3,9850,2018\n",
            "3456,ALEJANDRO,DIAZ,PRIETO,2,9850,2018\n",
            "3445,MARIA,MORENO,MENDEZ,1,9850,2018\n",
            "9088,ALBERTO,MUOZ,CRUZ,1,9850,2017\n",
            "8877,RAFAEL,ALVAREZ,FLORES,2,9850,2017\n",
            "6767,FERNANDO,ROMERO,HERRERA,4,9850,2019\n",
            "5654,PABLO,ALONSO,GALLEGO,1,9850,2019\n",
            "4323,JORGE,GUTIERREZ,MARQUEZ,2,9850,2020\n",
            "2232,RAMON,NAVARRO,LEON,1,9850,2016\n"
          ]
        }
      ]
    },
    {
      "cell_type": "code",
      "metadata": {
        "colab": {
          "base_uri": "https://localhost:8080/"
        },
        "id": "YB6cwMCKAj1y",
        "outputId": "b150e9a3-8f8d-4364-febe-1d03075877cd"
      },
      "source": [
        "class Array:\n",
        "    def __init__(self , tam):\n",
        "        self.__tamanio = tam\n",
        "        self.__data = [ 0  for x in range(self.__tamanio)]\n",
        "\n",
        "    def to_string( self):\n",
        "        info= \"\"\n",
        "        for dato in self.__data:\n",
        "            info = info + str(dato)\n",
        "        return info\n",
        "    \n",
        "    def get_item(self,  index):\n",
        "        return self.__data[index]\n",
        "\n",
        "    def get_length(self):\n",
        "        return len(self.__data)\n",
        "    \n",
        "    def set_item(self, dato, index):\n",
        "\n",
        "        if index >=0 and index < self.get_length():\n",
        "          self.__data[index] = dato\n",
        "        else:\n",
        "          print(\"Error indice fuera de rango\")\n",
        "\n",
        "    def clear( self, dato):\n",
        "        self.__data = [dato for x in range(self.__tamanio)]\n",
        "\n",
        "ejemplo=Array(20)\n",
        "print( ejemplo.to_string())\n",
        "\n"
      ],
      "execution_count": 135,
      "outputs": [
        {
          "output_type": "stream",
          "name": "stdout",
          "text": [
            "00000000000000000000\n"
          ]
        }
      ]
    },
    {
      "cell_type": "code",
      "metadata": {
        "colab": {
          "base_uri": "https://localhost:8080/"
        },
        "id": "pAlftu1MvnfH",
        "outputId": "0a3092d8-143e-4b2f-d61f-c864a89fb697"
      },
      "source": [
        "class trabajador:\n",
        "    def __init__(self, nt, nom, pat, mat, he, sb, ai):\n",
        "      #nt=numero de trabajador, nom=nombre, pat=paterno, mat=materno, he=horas extras, sb=sueldos base, ai=año de ingreso.\n",
        "      self.__numero_trabajador = nt\n",
        "      self.__nombre = nom\n",
        "      self.__parterno = pat\n",
        "      self.__materno = mat\n",
        "      self.__horas_extras = he\n",
        "      self.__sueldo_base = sb\n",
        "      self.__anio_ingreso = ai \n",
        "  \n",
        "  #Aqui van los metodos de acceso\n",
        "\n",
        "    def set_numero_trabajador(self , nt):\n",
        "        self.__numero_trabajador= nt \n",
        "    def get_numero_trabajador(self):\n",
        "      return self.__numero_trabajador\n",
        "\n",
        "\n",
        "    def set_nombre(self , nom):\n",
        "        self.__nombre= nom \n",
        "    def get_nombre(self):\n",
        "      return self.__nombre\n",
        "\n",
        "\n",
        "    def set_paterno(self, pat):\n",
        "        self.__paterno = pat\n",
        "    def get_paterno(self):\n",
        "      return self.__paterno\n",
        "\n",
        "\n",
        "    def set_materno(self, mat):\n",
        "        self.__materno = mat\n",
        "    def get_materno(self):\n",
        "      return self.__materno\n",
        "\n",
        "\n",
        "    def set_horas_extras(self, he):\n",
        "        self.__horas_extras = he\n",
        "    def get_horas_extras(self):\n",
        "      return self.__horas_extras\n",
        "\n",
        "    def set_sueldo_base(self, sb):\n",
        "        self.__sueldo_base= sb\n",
        "    def get_sueldo_base(self):\n",
        "      return self.__sueldo_base\n",
        "\n",
        "    def set_anio_ingreso(self, ai):\n",
        "        self.__anio_ingreso = ai\n",
        "    def get_anio_ingreso(self):\n",
        "      return self.__anio_ingreso\n",
        "\n",
        "    \n",
        "    \n",
        "    #metodos de uso\n",
        "    def calcular_sueldo_mensual(self):\n",
        "        anios = 2021 - self.get_anio_ingreso()\n",
        "\n",
        "        sueldo = self.get_sueldo_base()\n",
        "        #agregarle horas extra\n",
        "        sueldo += self.get_horas_extras() * 276.5\n",
        "        #prestaciones\n",
        "        sueldo = sueldo + (sueldo * anios * 0.03 )\n",
        "        return sueldo\n",
        "\n",
        "    def calcular_antiguedad(self ):\n",
        "      return 2021 - self.get_anio_ingreso()  \n",
        "\n",
        "    def to_string( self):\n",
        "      return \"Nombre:\" + self.__nombre  + \" Sueldos: $\" + str(self.calcular_sueldo_mensual()) + \"  Años de antiguedad: \" + str(self.calcular_antiguedad())\n",
        "\n",
        "\n",
        "\n",
        "emp = trabajador(2345,'CARLOS','PEREZ','CASTILLO',1,9850,2017)\n",
        "print(emp.get_sueldo_base())\n",
        "print(emp.get_horas_extras())\n",
        "print(emp.calcular_antiguedad())\n",
        "print(emp.to_string())\n",
        "\n",
        "    \n",
        "\n",
        "\n",
        "        "
      ],
      "execution_count": 179,
      "outputs": [
        {
          "output_type": "stream",
          "name": "stdout",
          "text": [
            "9850\n",
            "1\n",
            "4\n",
            "Nombre:CARLOS Sueldos: $11341.68  Años de antiguedad: 4\n"
          ]
        }
      ]
    },
    {
      "cell_type": "code",
      "metadata": {
        "colab": {
          "base_uri": "https://localhost:8080/"
        },
        "id": "Kys3u6bIvsmV",
        "outputId": "3888a16d-d6a6-42e3-9f9b-74c89eb18f34"
      },
      "source": [
        "class NominaADT:\n",
        "    def __init__(self , ruta_archivo):\n",
        "      #abrir el archivo y determinar el numero de empleados\n",
        "      archivo = open('junio.dat' , 'rt' , encoding= 'latin-1')\n",
        "      empleados = archivo.readlines()\n",
        "      del empleados [0]\n",
        "      for index in range(len(empleados)):\n",
        "          empleados[index] = empleados[index].strip().split(',')\n",
        "      self.__data=Array( len(empleados) )\n",
        "      cont = 0\n",
        "      for emp in empleados:\n",
        "          tmp = trabajador( int(emp[0]) , emp[1], emp[2] ,  emp[3],  int(emp[4]), int(emp[5]), int(emp[6]))\n",
        "          self.__data.set_item( tmp , cont)\n",
        "          cont +=1\n",
        "\n",
        "\n",
        "    def buscar_mas_antiguos( self ):\n",
        "        for index in range(self.__data.get_length()):\n",
        "            print(self.__data.get_item(index))\n",
        "\n",
        "                \n",
        "    def buscar_menor_antiguedad(self):\n",
        "        pass\n",
        "\n",
        "    def calcular_sueldos(self):\n",
        "        for index in range(self.__data.get_length()):\n",
        "            print(self.__data.get_item(index).to_string())\n",
        "\n",
        "\n",
        "ejemplo = NominaADT('junio.dat')\n",
        "ejemplo.calcular_sueldos()\n",
        "\n",
        "\n",
        "\n"
      ],
      "execution_count": 180,
      "outputs": [
        {
          "output_type": "stream",
          "name": "stdout",
          "text": [
            "Nombre:CARLOS Sueldos: $11032.0  Años de antiguedad: 4\n",
            "Nombre:ANGEL Sueldos: $10430.295  Años de antiguedad: 1\n",
            "Nombre:JESUS Sueldos: $11963.45  Años de antiguedad: 5\n",
            "Nombre:DAVID Sueldos: $11651.36  Años de antiguedad: 4\n",
            "Nombre:PEDRO Sueldos: $11651.36  Años de antiguedad: 4\n",
            "Nombre:DANIEL Sueldos: $11640.655  Años de antiguedad: 3\n",
            "Nombre:ALEJANDRO Sueldos: $11339.27  Años de antiguedad: 3\n",
            "Nombre:MARIA Sueldos: $11037.885  Años de antiguedad: 3\n",
            "Nombre:ALBERTO Sueldos: $11341.68  Años de antiguedad: 4\n",
            "Nombre:RAFAEL Sueldos: $11651.36  Años de antiguedad: 4\n",
            "Nombre:FERNANDO Sueldos: $11613.36  Años de antiguedad: 2\n",
            "Nombre:PABLO Sueldos: $10734.09  Años de antiguedad: 2\n",
            "Nombre:JORGE Sueldos: $10715.09  Años de antiguedad: 1\n",
            "Nombre:RAMON Sueldos: $11645.475  Años de antiguedad: 5\n"
          ]
        }
      ]
    }
  ]
}